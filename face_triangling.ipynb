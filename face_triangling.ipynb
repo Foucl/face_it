{
 "cells": [
  {
   "cell_type": "markdown",
   "metadata": {
    "ExecuteTime": {
     "end_time": "2016-09-26T13:45:32.423000",
     "start_time": "2016-09-26T13:45:32.392000"
    }
   },
   "source": [
    "# Stimulus Generation: Face Scrambling\n",
    "\n",
    "Simply generate/overlay one mask per movement frame. Create an alpha blend between mask and image, increase opacity gradually.\n",
    "\n",
    "points:\n",
    "- triangle should always be centered relative to the whole frame\n",
    "- should not appear linearly, but stay vaguely visible for a longer period of time"
   ]
  },
  {
   "cell_type": "code",
   "execution_count": 1,
   "metadata": {
    "ExecuteTime": {
     "end_time": "2016-09-28T09:26:16.817000",
     "start_time": "2016-09-28T09:26:11.264000"
    },
    "collapsed": false
   },
   "outputs": [
    {
     "name": "stdout",
     "output_type": "stream",
     "text": [
      "None\n",
      "'writeandexecute' magic loaded.\n",
      "None\n"
     ]
    }
   ],
   "source": [
    "%load_ext jupyter_cms\n",
    "%load_ext writeandexecute"
   ]
  },
  {
   "cell_type": "code",
   "execution_count": 2,
   "metadata": {
    "ExecuteTime": {
     "end_time": "2016-09-28T09:26:35.576000",
     "start_time": "2016-09-28T09:26:25.192000"
    },
    "collapsed": false
   },
   "outputs": [
    {
     "name": "stdout",
     "output_type": "stream",
     "text": [
      "already loaded\n",
      "The jupyter_cms extension is already loaded. To reload it, use:\n",
      "  %reload_ext jupyter_cms\n"
     ]
    }
   ],
   "source": [
    "# <api>\n",
    "import os\n",
    "import sys\n",
    "\n",
    "import numpy as np\n",
    "from matplotlib import pyplot as plt\n",
    "\n",
    "import cv2\n",
    "from skimage import io\n",
    "from sklearn.feature_extraction import image\n",
    "from skimage.util.shape import view_as_blocks\n",
    "import itertools\n",
    "\n",
    "import mywb.face_detection as fd\n",
    "import mywb.face_scrambling as fs"
   ]
  },
  {
   "cell_type": "code",
   "execution_count": 181,
   "metadata": {
    "ExecuteTime": {
     "end_time": "2016-09-27T19:21:59.164000",
     "start_time": "2016-09-27T19:21:58.841000"
    },
    "collapsed": false
   },
   "outputs": [],
   "source": [
    "in_dir = './all_frames_scrambled/frames_ekl99m03/'\n",
    "out_dir = './all_frames_scrambled_triangled/frames_ekl99m03'\n",
    "movement_frames = range(2,6) # 1-based indices!!\n",
    "apex_frames = range(6,19)\n",
    "opac_levels = [0.1, 0.2, 0.4, 0.8]\n",
    "\n",
    "frames = os.listdir(in_dir)\n",
    "def _get_frameno(filen):\n",
    "    frameno = filen.split('_')[-1].split('.')[0] # this is ugly!!\n",
    "    return int(frameno)\n",
    "\n",
    "def _triangle_from_center(center, size=60, y_offset=10, down=False):\n",
    "    center = [int(x) for x in center]\n",
    "    center[0] += y_offset\n",
    "    if not down:\n",
    "        lower_left = (center[1]-size, center[0])\n",
    "        lower_right = (center[1]+size, center[0])\n",
    "        top = (center[1], center[0]-size*2)\n",
    "    else:\n",
    "        center[0] += size/2\n",
    "        lower_left = (center[1]-size, center[0]-size*2)\n",
    "        lower_right = (center[1]+size, center[0]-size*2)\n",
    "        top = (center[1], center[0])\n",
    "        \n",
    "    return [lower_left, lower_right, top]\n",
    "\n",
    "def choose_triangle(filen, down_emo=\"ekl\"):\n",
    "    expression = filen[0:3]\n",
    "    if expression==down_emo:\n",
    "        down=True\n",
    "    else:\n",
    "        down=False\n",
    "    return down\n",
    "\n",
    "frame_nos = [_get_frameno(x) for x in frames]\n",
    "expression = frames[0][0:3]\n",
    "\n",
    "test_frame = frames[17]\n",
    "test_img = os.path.join(in_dir, test_frame)\n",
    "im = io.imread(test_img)\n",
    "\n",
    "def draw_triangle(img, opacity=.5, trgl_size=60, y_offset=10, trgl_color=(70,70,70), trgl_thickness=5, down_emo=\"ekl\", plot=False):\n",
    "    im = io.imread(img)\n",
    "    down = choose_triangle(img, down_emo)\n",
    "    center = (im.shape[0]/2, im.shape[1]/2)\n",
    "    trgl_pts = _triangle_from_center(center, trgl_size, down=down)\n",
    "    overlay = im.copy()\n",
    "    cv2.polylines(overlay, np.int32([trgl_pts]), True, trgl_color, thickness=trgl_thickness)\n",
    "    cv2.addWeighted(overlay, opacity, im, 1 - opacity, 0, im)\n",
    "    if plot:\n",
    "        fd.simple_implot(im)\n",
    "    return im\n",
    "\n",
    "im = draw_triangle(test_img, down_emo='ekl')"
   ]
  },
  {
   "cell_type": "code",
   "execution_count": 183,
   "metadata": {
    "ExecuteTime": {
     "end_time": "2016-09-27T19:24:17.878000",
     "start_time": "2016-09-27T19:24:15.793000"
    },
    "collapsed": false
   },
   "outputs": [],
   "source": [
    "def draw_triangles(source_dir, target_dir, opac_levels=[0.1, 0.2, 0.4, 0.8], down_emo=\"ekl\"):\n",
    "    movement_frames = range(2,6) # 1-based indices!!\n",
    "    apex_frames = range(6,19)\n",
    "    if not os.path.exists(target_dir):\n",
    "        os.makedirs(target_dir)\n",
    "    frames = os.listdir(source_dir)\n",
    "    i = 0\n",
    "    for frame in frames:\n",
    "        source_img = os.path.join(source_dir, frame)\n",
    "        target_img = os.path.join(target_dir, frame)\n",
    "        frame_no = _get_frameno(frame)\n",
    "        if frame_no in range(2,6):\n",
    "            im = draw_triangle(source_img, opacity=opac_levels[i], down_emo=down_emo)\n",
    "            i += 1\n",
    "        elif frame_no > 5:\n",
    "            im = draw_triangle(source_img, opacity=1, down_emo=down_emo)\n",
    "        else:\n",
    "            im = io.imread(source_img)\n",
    "        io.imsave(target_img, im)\n",
    "        \n",
    "in_dir = './all_frames_scrambled/frames_ekl99m03/'\n",
    "out_dir = './all_frames_scrambled_triangled/frames_ekl99m03'\n",
    "opac_levels=[0.1, 0.2, 0.4, 0.8]\n",
    "draw_triangles(in_dir, out_dir, opac_levels=opac_levels, down_emo=\"ekl\")\n"
   ]
  },
  {
   "cell_type": "code",
   "execution_count": 184,
   "metadata": {
    "ExecuteTime": {
     "end_time": "2016-09-27T19:32:57.021000",
     "start_time": "2016-09-27T19:29:41.434000"
    },
    "collapsed": false
   },
   "outputs": [
    {
     "name": "stdout",
     "output_type": "stream",
     "text": [
      "triangling frames_ekl99m03\n",
      "triangling frames_ekl99m05\n",
      "triangling frames_ekl99m07\n",
      "triangling frames_ekl99m09\n",
      "triangling frames_ekl99m10\n",
      "triangling frames_ekl99m15\n",
      "triangling frames_ekl99m20\n",
      "triangling frames_ekl99m21\n",
      "triangling frames_ekl99m23\n",
      "triangling frames_ekl99m24\n",
      "triangling frames_ekl99m25\n",
      "triangling frames_ekl99m28\n",
      "triangling frames_ekl99m30\n",
      "triangling frames_ekl99m33\n",
      "triangling frames_ekl99m36\n",
      "triangling frames_ekl99m38\n",
      "triangling frames_ekl99m46\n",
      "triangling frames_ekl99m47\n",
      "triangling frames_ekl99m49\n",
      "triangling frames_ekl99m71\n",
      "triangling frames_ekl99w01\n",
      "triangling frames_ekl99w02\n",
      "triangling frames_ekl99w04\n",
      "triangling frames_ekl99w08\n",
      "triangling frames_ekl99w12\n",
      "triangling frames_ekl99w14\n",
      "triangling frames_ekl99w16\n",
      "triangling frames_ekl99w18\n",
      "triangling frames_ekl99w19\n",
      "triangling frames_ekl99w22\n",
      "triangling frames_ekl99w26\n",
      "triangling frames_ekl99w27\n",
      "triangling frames_ekl99w31\n",
      "triangling frames_ekl99w32\n",
      "triangling frames_ekl99w37\n",
      "triangling frames_ekl99w56\n",
      "triangling frames_ekl99w57\n",
      "triangling frames_ekl99w58\n",
      "triangling frames_ekl99w61\n",
      "triangling frames_fre99m03\n",
      "triangling frames_fre99m05\n",
      "triangling frames_fre99m07\n",
      "triangling frames_fre99m09\n",
      "triangling frames_fre99m10\n",
      "triangling frames_fre99m15\n",
      "triangling frames_fre99m20\n",
      "triangling frames_fre99m21\n",
      "triangling frames_fre99m23\n",
      "triangling frames_fre99m24\n",
      "triangling frames_fre99m25\n",
      "triangling frames_fre99m28\n",
      "triangling frames_fre99m30\n",
      "triangling frames_fre99m33\n",
      "triangling frames_fre99m36\n",
      "triangling frames_fre99m38\n",
      "triangling frames_fre99m46\n",
      "triangling frames_fre99m47\n",
      "triangling frames_fre99m49\n",
      "triangling frames_fre99m71\n",
      "triangling frames_fre99w01\n",
      "triangling frames_fre99w02\n",
      "triangling frames_fre99w04\n",
      "triangling frames_fre99w08\n",
      "triangling frames_fre99w12\n",
      "triangling frames_fre99w14\n",
      "triangling frames_fre99w16\n",
      "triangling frames_fre99w18\n",
      "triangling frames_fre99w19\n",
      "triangling frames_fre99w22\n",
      "triangling frames_fre99w26\n",
      "triangling frames_fre99w27\n",
      "triangling frames_fre99w31\n",
      "triangling frames_fre99w32\n",
      "triangling frames_fre99w37\n",
      "triangling frames_fre99w56\n",
      "triangling frames_fre99w57\n",
      "triangling frames_fre99w58\n",
      "triangling frames_fre99w61\n"
     ]
    }
   ],
   "source": [
    "frame_dir = './all_frames_scrambled/'\n",
    "frame_scrambled_dir = './all_frames_scrambled_triangled/'\n",
    "stimuli = os.listdir(frame_dir)\n",
    "\n",
    "for stim in stimuli:\n",
    "    print \"triangling\", stim\n",
    "    source_dir = os.path.join(frame_dir, stim)\n",
    "    target_dir = os.path.join(frame_scrambled_dir, stim)\n",
    "    draw_triangles(source_dir, target_dir, opac_levels=opac_levels, down_emo=\"ekl\")"
   ]
  },
  {
   "cell_type": "code",
   "execution_count": null,
   "metadata": {
    "collapsed": true
   },
   "outputs": [],
   "source": []
  }
 ],
 "metadata": {
  "kernelspec": {
   "display_name": "Python 2",
   "language": "python",
   "name": "python2"
  },
  "language_info": {
   "codemirror_mode": {
    "name": "ipython",
    "version": 2
   },
   "file_extension": ".py",
   "mimetype": "text/x-python",
   "name": "python",
   "nbconvert_exporter": "python",
   "pygments_lexer": "ipython2",
   "version": "2.7.11"
  },
  "nav_menu": {},
  "toc": {
   "navigate_menu": true,
   "number_sections": false,
   "sideBar": true,
   "threshold": 6,
   "toc_cell": false,
   "toc_section_display": "block",
   "toc_window_display": false
  }
 },
 "nbformat": 4,
 "nbformat_minor": 1
}
